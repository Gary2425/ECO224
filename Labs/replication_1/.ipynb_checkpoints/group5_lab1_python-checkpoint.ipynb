{
 "cells": [
  {
   "cell_type": "code",
   "execution_count": 15,
   "metadata": {},
   "outputs": [],
   "source": [
    "import pandas as pd\n",
    "import numpy as np\n",
    "import pyreadr\n",
    "import math"
   ]
  },
  {
   "cell_type": "code",
   "execution_count": 19,
   "metadata": {},
   "outputs": [
    {
     "data": {
      "text/plain": [
       "(5150, 20)"
      ]
     },
     "execution_count": 19,
     "metadata": {},
     "output_type": "execute_result"
    }
   ],
   "source": [
    "data_read = pyreadr.read_r(\"../data/wage2015_subsample_inference.Rdata\")\n",
    "data = data_read[ 'data' ]\n",
    "data.shape"
   ]
  },
  {
   "cell_type": "code",
   "execution_count": 20,
   "metadata": {},
   "outputs": [],
   "source": [
    "\n",
    "m = data[ [\"lwage\",\"sex\",\"shs\",\"hsg\",\"scl\",\"clg\",\"ad\",\"ne\",\"mw\",\"so\",\"we\",\"exp1\"] ]\n",
    "\n",
    "college=m[m['clg']==1]\n",
    "m_college= college[ [\"lwage\",\"sex\",\"shs\",\"hsg\",\"scl\",\"clg\",\"ad\",\"ne\",\"mw\",\"so\",\"we\",\"exp1\"] ]\n",
    "scl=m[m['scl']==1]\n",
    "m_scl=scl[[\"lwage\",\"sex\",\"shs\",\"hsg\",\"scl\",\"clg\",\"ad\",\"ne\",\"mw\",\"so\",\"we\",\"exp1\"]]"
   ]
  },
  {
   "cell_type": "code",
   "execution_count": 21,
   "metadata": {},
   "outputs": [
    {
     "data": {
      "text/plain": [
       "(1636, 12)"
      ]
     },
     "execution_count": 21,
     "metadata": {},
     "output_type": "execute_result"
    }
   ],
   "source": [
    "m_college.shape"
   ]
  },
  {
   "cell_type": "code",
   "execution_count": 22,
   "metadata": {},
   "outputs": [
    {
     "data": {
      "text/plain": [
       "(1432, 12)"
      ]
     },
     "execution_count": 22,
     "metadata": {},
     "output_type": "execute_result"
    }
   ],
   "source": [
    "m_scl.shape"
   ]
  },
  {
   "cell_type": "code",
   "execution_count": 9,
   "metadata": {},
   "outputs": [],
   "source": [
    "total=pd.concat([m_college,m_scl])\n",
    "total.shape"
   ]
  },
  {
   "cell_type": "code",
   "execution_count": 23,
   "metadata": {},
   "outputs": [],
   "source": [
    "total.reset_index(inplace=True)"
   ]
  },
  {
   "cell_type": "code",
   "execution_count": 24,
   "metadata": {},
   "outputs": [
    {
     "data": {
      "text/html": [
       "<div>\n",
       "<style scoped>\n",
       "    .dataframe tbody tr th:only-of-type {\n",
       "        vertical-align: middle;\n",
       "    }\n",
       "\n",
       "    .dataframe tbody tr th {\n",
       "        vertical-align: top;\n",
       "    }\n",
       "\n",
       "    .dataframe thead th {\n",
       "        text-align: right;\n",
       "    }\n",
       "</style>\n",
       "<table border=\"1\" class=\"dataframe\">\n",
       "  <thead>\n",
       "    <tr style=\"text-align: right;\">\n",
       "      <th></th>\n",
       "      <th>All</th>\n",
       "      <th>Men</th>\n",
       "      <th>Women</th>\n",
       "    </tr>\n",
       "  </thead>\n",
       "  <tbody>\n",
       "    <tr>\n",
       "      <th>Log Wage</th>\n",
       "      <td>3.000022</td>\n",
       "      <td>3.038412</td>\n",
       "      <td>2.956904</td>\n",
       "    </tr>\n",
       "    <tr>\n",
       "      <th>Sex</th>\n",
       "      <td>0.470991</td>\n",
       "      <td>0.000000</td>\n",
       "      <td>1.000000</td>\n",
       "    </tr>\n",
       "    <tr>\n",
       "      <th>Some College</th>\n",
       "      <td>0.466754</td>\n",
       "      <td>0.481824</td>\n",
       "      <td>0.449827</td>\n",
       "    </tr>\n",
       "    <tr>\n",
       "      <th>Gollage Graduate</th>\n",
       "      <td>0.533246</td>\n",
       "      <td>0.518176</td>\n",
       "      <td>0.550173</td>\n",
       "    </tr>\n",
       "    <tr>\n",
       "      <th>Northeast</th>\n",
       "      <td>0.226532</td>\n",
       "      <td>0.219347</td>\n",
       "      <td>0.234602</td>\n",
       "    </tr>\n",
       "    <tr>\n",
       "      <th>Midwest</th>\n",
       "      <td>0.265971</td>\n",
       "      <td>0.261245</td>\n",
       "      <td>0.271280</td>\n",
       "    </tr>\n",
       "    <tr>\n",
       "      <th>South</th>\n",
       "      <td>0.285854</td>\n",
       "      <td>0.290819</td>\n",
       "      <td>0.280277</td>\n",
       "    </tr>\n",
       "    <tr>\n",
       "      <th>West</th>\n",
       "      <td>0.221643</td>\n",
       "      <td>0.228589</td>\n",
       "      <td>0.213841</td>\n",
       "    </tr>\n",
       "    <tr>\n",
       "      <th>Experience</th>\n",
       "      <td>12.700945</td>\n",
       "      <td>12.433148</td>\n",
       "      <td>13.001730</td>\n",
       "    </tr>\n",
       "  </tbody>\n",
       "</table>\n",
       "</div>"
      ],
      "text/plain": [
       "                        All        Men      Women\n",
       "Log Wage           3.000022   3.038412   2.956904\n",
       "Sex                0.470991   0.000000   1.000000\n",
       "Some College       0.466754   0.481824   0.449827\n",
       "Gollage Graduate   0.533246   0.518176   0.550173\n",
       "Northeast          0.226532   0.219347   0.234602\n",
       "Midwest            0.265971   0.261245   0.271280\n",
       "South              0.285854   0.290819   0.280277\n",
       "West               0.221643   0.228589   0.213841\n",
       "Experience        12.700945  12.433148  13.001730"
      ]
     },
     "execution_count": 24,
     "metadata": {},
     "output_type": "execute_result"
    }
   ],
   "source": [
    "total2 = total[ [\"lwage\",\"sex\",\"scl\",\"clg\",\"ne\",\"mw\",\"so\",\"we\",\"exp1\"] ]\n",
    "\n",
    "data_female = total2[total2[ 'sex' ] == 1 ]\n",
    "t_female = data_female[ [\"lwage\",\"sex\",\"scl\",\"clg\",\"ne\",\"mw\",\"so\",\"we\",\"exp1\"] ]\n",
    "\n",
    "data_male = total2[ total2[ 'sex' ] == 0 ]\n",
    "t_male = data_male[ [ \"lwage\",\"sex\",\"scl\",\"clg\",\"ne\",\"mw\",\"so\",\"we\",\"exp1\" ] ]\n",
    "\n",
    "\n",
    "table = np.zeros( (9, 3) )\n",
    "table[:, 0] = total2.mean().values\n",
    "table[:, 1] = t_male.mean().values\n",
    "table[:, 2] = t_female.mean().values\n",
    "table_pandas = pd.DataFrame( table, columns = [ 'All', 'Men', 'Women'])\n",
    "table_pandas.index = [\"Log Wage\",\"Sex\",\"Some College\",\"Gollage Graduate\",\"Northeast\",\"Midwest\",\"South\",\"West\",\"Experience\"]\n",
    "table_html = table_pandas.to_html()\n",
    "\n",
    "table_pandas"
   ]
  },
  {
   "cell_type": "code",
   "execution_count": 25,
   "metadata": {},
   "outputs": [
    {
     "data": {
      "text/plain": [
       "-0.08150855508735866"
      ]
     },
     "execution_count": 25,
     "metadata": {},
     "output_type": "execute_result"
    }
   ],
   "source": [
    "data_female['lwage'].mean() - data_male['lwage'].mean()"
   ]
  },
  {
   "cell_type": "code",
   "execution_count": 27,
   "metadata": {},
   "outputs": [],
   "source": [
    "import statsmodels.api as sm\n",
    "import statsmodels.formula.api as smf"
   ]
  },
  {
   "cell_type": "code",
   "execution_count": 28,
   "metadata": {},
   "outputs": [],
   "source": [
    "nocontrol_model = smf.ols( formula = 'lwage ~ sex', data = total2 )\n",
    "nocontrol_est = nocontrol_model.fit().summary2().tables[1]['Coef.']['sex']\n",
    "HCV_coefs = nocontrol_model.fit().cov_HC0\n",
    "nocontrol_se = np.power( HCV_coefs.diagonal() , 0.5)[1]"
   ]
  },
  {
   "cell_type": "code",
   "execution_count": 39,
   "metadata": {},
   "outputs": [
    {
     "name": "stdout",
     "output_type": "stream",
     "text": [
      "The estimated gender coefficient is -0.08150855508736156 and the corresponding robust standard error is 0.019579647767772403\n"
     ]
    }
   ],
   "source": [
    "print( f'The estimated gender coefficient is {nocontrol_est} and the corresponding robust standard error is {nocontrol_se}' )"
   ]
  },
  {
   "cell_type": "markdown",
   "metadata": {},
   "source": [
    "# OLS"
   ]
  },
  {
   "cell_type": "code",
   "execution_count": 43,
   "metadata": {},
   "outputs": [
    {
     "name": "stdout",
     "output_type": "stream",
     "text": [
      "              Coef.  Std.Err.           t          P>|t|    [0.025    0.975]\n",
      "Intercept  1.667494  0.009998  166.781417   0.000000e+00  1.647890  1.687097\n",
      "sex       -0.096599  0.018697   -5.166475   2.538621e-07 -0.133260 -0.059939\n",
      "exp1       0.005150  0.000528    9.758316   3.568426e-22  0.004115  0.006185\n",
      "scl        0.652284  0.016987   38.398567  1.313132e-263  0.618977  0.685592\n",
      "clg        1.015209  0.015120   67.144747   0.000000e+00  0.985563  1.044855\n",
      "ne         0.386534  0.026586   14.539250   2.326198e-46  0.334406  0.438661\n",
      "mw         0.422902  0.025596   16.522084   8.376085e-59  0.372714  0.473089\n",
      "so         0.419274  0.024124   17.379712   1.355933e-64  0.371972  0.466575\n",
      "we         0.438784  0.027512   15.948877   4.547772e-55  0.384841  0.492728\n",
      "exp1:scl   0.004172  0.000971    4.296438   1.789767e-05  0.002268  0.006076\n",
      "exp1:clg   0.000978  0.000947    1.033571   3.014187e-01 -0.000878  0.002835\n",
      "exp1:ne    0.003583  0.001584    2.261804   2.377946e-02  0.000477  0.006689\n",
      "exp1:mw   -0.000571  0.001589   -0.359163   7.194983e-01 -0.003687  0.002545\n",
      "exp1:so    0.000846  0.001499    0.564187   5.726682e-01 -0.002094  0.003785\n",
      "exp1:we    0.001292  0.001638    0.789065   4.301350e-01 -0.001919  0.004504\n",
      "Coefficient for OLS with controls -0.0965993052458634\n"
     ]
    }
   ],
   "source": [
    "[\"lwage\",\"sex\",\"scl\",\"clg\",\"ne\",\"mw\",\"so\",\"we\",\"exp1\"]\n",
    "flex = 'lwage ~ sex + (exp1)*(scl+clg+ne+mw+so+we+exp1)'\n",
    "control_model = smf.ols( formula = flex, data = total2 )\n",
    "control_est = control_model.fit().summary2().tables[1]['Coef.']['sex']\n",
    "\n",
    "print(control_model.fit().summary2().tables[1])\n",
    "print( f\"Coefficient for OLS with controls {control_est}\" )\n",
    "\n",
    "HCV_coefs = control_model.fit().cov_HC0\n",
    "control_se = np.power( HCV_coefs.diagonal() , 0.5)[1]"
   ]
  },
  {
   "cell_type": "markdown",
   "metadata": {},
   "source": [
    "## Partialling-Out using ols"
   ]
  },
  {
   "cell_type": "code",
   "execution_count": 44,
   "metadata": {},
   "outputs": [
    {
     "name": "stdout",
     "output_type": "stream",
     "text": [
      "Coefficient for D via partialling-out -0.09659930524586716\n"
     ]
    },
    {
     "data": {
      "text/plain": [
       "0   -0.133206\n",
       "1   -0.059993\n",
       "Name: t_D, dtype: float64"
      ]
     },
     "execution_count": 44,
     "metadata": {},
     "output_type": "execute_result"
    }
   ],
   "source": [
    "# models\n",
    "# model for Y\n",
    "flex_y = 'lwage ~  (exp1)*(scl+clg+ne+mw+so+we+exp1)'\n",
    "# model for D\n",
    "flex_d = 'sex ~ (exp1)*(scl+clg+ne+mw+so+we+exp1)' \n",
    "\n",
    "# partialling-out the linear effect of W from Y\n",
    "t_Y = smf.ols( formula = flex_y , data = total2 ).fit().resid\n",
    "\n",
    "# partialling-out the linear effect of W from D\n",
    "t_D = smf.ols( formula = flex_d , data = total2 ).fit().resid\n",
    "\n",
    "data_res = pd.DataFrame( np.vstack(( t_Y.values , t_D.values )).T , columns = [ 't_Y', 't_D' ] )\n",
    "# regression of Y on D after partialling-out the effect of W\n",
    "partial_fit =  smf.ols( formula = 't_Y ~ t_D' , data = data_res ).fit()\n",
    "partial_est = partial_fit.summary2().tables[1]['Coef.']['t_D']\n",
    "\n",
    "print(\"Coefficient for D via partialling-out\", partial_est)\n",
    "\n",
    "# standard error\n",
    "HCV_coefs = partial_fit.cov_HC0\n",
    "partial_se = np.power( HCV_coefs.diagonal() , 0.5)[1]\n",
    "\n",
    "# confidence interval\n",
    "partial_fit.conf_int( alpha=0.05 ).iloc[1, :]"
   ]
  },
  {
   "cell_type": "code",
   "execution_count": null,
   "metadata": {},
   "outputs": [],
   "source": []
  }
 ],
 "metadata": {
  "kernelspec": {
   "display_name": "Python 3",
   "language": "python",
   "name": "python3"
  },
  "language_info": {
   "codemirror_mode": {
    "name": "ipython",
    "version": 3
   },
   "file_extension": ".py",
   "mimetype": "text/x-python",
   "name": "python",
   "nbconvert_exporter": "python",
   "pygments_lexer": "ipython3",
   "version": "3.8.5"
  }
 },
 "nbformat": 4,
 "nbformat_minor": 5
}
